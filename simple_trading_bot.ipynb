{
 "cells": [
  {
   "cell_type": "markdown",
   "id": "8f539d3b",
   "metadata": {
    "vscode": {
     "languageId": "plaintext"
    }
   },
   "source": [
    "# simple trade bot"
   ]
  },
  {
   "cell_type": "markdown",
   "id": "3ced847b",
   "metadata": {},
   "source": [
    "first we get api key and api secret and initialise it in a variable"
   ]
  },
  {
   "cell_type": "code",
   "execution_count": 13,
   "id": "9cf0371a",
   "metadata": {},
   "outputs": [],
   "source": [
    "api_key = \"c13d35d87105be163cfded0ff4cc0ca972ed707b297796b16460f20ff94fe46b\"\n",
    "api_secret = \"478cfd73771e54d6edd8914e2baea7e3f04ee4227b33680d5f91d596baf6c1db\""
   ]
  },
  {
   "cell_type": "code",
   "execution_count": 14,
   "id": "c66c0d24",
   "metadata": {},
   "outputs": [
    {
     "name": "stdout",
     "output_type": "stream",
     "text": [
      "Requirement already satisfied: python-binance in c:\\users\\dell\\anaconda3\\lib\\site-packages (1.0.29)\n",
      "Requirement already satisfied: requests in c:\\users\\dell\\anaconda3\\lib\\site-packages (from python-binance) (2.32.3)\n",
      "Requirement already satisfied: six in c:\\users\\dell\\anaconda3\\lib\\site-packages (from python-binance) (1.16.0)\n",
      "Requirement already satisfied: dateparser in c:\\users\\dell\\anaconda3\\lib\\site-packages (from python-binance) (1.2.2)\n",
      "Requirement already satisfied: aiohttp in c:\\users\\dell\\anaconda3\\lib\\site-packages (from python-binance) (3.10.5)\n",
      "Requirement already satisfied: websockets in c:\\users\\dell\\anaconda3\\lib\\site-packages (from python-binance) (15.0.1)\n",
      "Requirement already satisfied: pycryptodome in c:\\users\\dell\\anaconda3\\lib\\site-packages (from python-binance) (3.23.0)\n",
      "Requirement already satisfied: aiohappyeyeballs>=2.3.0 in c:\\users\\dell\\anaconda3\\lib\\site-packages (from aiohttp->python-binance) (2.4.0)\n",
      "Requirement already satisfied: aiosignal>=1.1.2 in c:\\users\\dell\\anaconda3\\lib\\site-packages (from aiohttp->python-binance) (1.2.0)\n",
      "Requirement already satisfied: attrs>=17.3.0 in c:\\users\\dell\\anaconda3\\lib\\site-packages (from aiohttp->python-binance) (23.1.0)\n",
      "Requirement already satisfied: frozenlist>=1.1.1 in c:\\users\\dell\\anaconda3\\lib\\site-packages (from aiohttp->python-binance) (1.4.0)\n",
      "Requirement already satisfied: multidict<7.0,>=4.5 in c:\\users\\dell\\anaconda3\\lib\\site-packages (from aiohttp->python-binance) (6.0.4)\n",
      "Requirement already satisfied: yarl<2.0,>=1.0 in c:\\users\\dell\\anaconda3\\lib\\site-packages (from aiohttp->python-binance) (1.11.0)\n",
      "Requirement already satisfied: python-dateutil>=2.7.0 in c:\\users\\dell\\anaconda3\\lib\\site-packages (from dateparser->python-binance) (2.9.0.post0)\n",
      "Requirement already satisfied: pytz>=2024.2 in c:\\users\\dell\\anaconda3\\lib\\site-packages (from dateparser->python-binance) (2025.2)\n",
      "Requirement already satisfied: regex>=2024.9.11 in c:\\users\\dell\\anaconda3\\lib\\site-packages (from dateparser->python-binance) (2024.9.11)\n",
      "Requirement already satisfied: tzlocal>=0.2 in c:\\users\\dell\\anaconda3\\lib\\site-packages (from dateparser->python-binance) (5.3.1)\n",
      "Requirement already satisfied: charset-normalizer<4,>=2 in c:\\users\\dell\\anaconda3\\lib\\site-packages (from requests->python-binance) (3.3.2)\n",
      "Requirement already satisfied: idna<4,>=2.5 in c:\\users\\dell\\anaconda3\\lib\\site-packages (from requests->python-binance) (3.7)\n",
      "Requirement already satisfied: urllib3<3,>=1.21.1 in c:\\users\\dell\\anaconda3\\lib\\site-packages (from requests->python-binance) (2.2.3)\n",
      "Requirement already satisfied: certifi>=2017.4.17 in c:\\users\\dell\\anaconda3\\lib\\site-packages (from requests->python-binance) (2024.8.30)\n",
      "Requirement already satisfied: tzdata in c:\\users\\dell\\anaconda3\\lib\\site-packages (from tzlocal>=0.2->dateparser->python-binance) (2023.3)\n"
     ]
    }
   ],
   "source": [
    "!pip install python-binance\n",
    "from binance import Client     #importing\n",
    "from binance.exceptions import BinanceAPIException\n",
    "import logging"
   ]
  },
  {
   "cell_type": "code",
   "execution_count": 15,
   "id": "6ba024fb",
   "metadata": {},
   "outputs": [],
   "source": [
    "client = Client(api_key, api_secret)\n",
    "\n",
    "client.FUTURES_URL = 'https://testnet.binancefuture.com/fapi'"
   ]
  },
  {
   "cell_type": "markdown",
   "id": "f8e17f2f",
   "metadata": {},
   "source": [
    "we have accomplished all the prerequisites until now and we can move on to building our trading bot."
   ]
  },
  {
   "cell_type": "code",
   "execution_count": null,
   "id": "72c86669",
   "metadata": {},
   "outputs": [],
   "source": [
    "class Simple_trading_bot:\n",
    "\n",
    "    def __init__(self, api_key, api_secret):        ##initial method.\n",
    "        self.client = Client(api_key, api_secret)\n",
    "        self.client.FUTURES_URL = 'https://testnet.binancefuture.com/fapi'\n",
    "\n",
    "    def place_market_order(self, symbol, side, quantity):\n",
    "        try:\n",
    "            print(f\"Placing order {side} for {quantity}{symbol}\")\n",
    "            \n",
    "            order = self.client.futures_create_order(symbol= symbol, side = side.upper(), type = \"MARKET\", quantity= quantity)      #placing order now\n",
    "\n",
    "            logging.info(f\"Order response: {order}\")\n",
    "            print(\"Order placed successfully! 💯\")\n",
    "            return order\n",
    "        \n",
    "        except BinanceAPIException as exception:\n",
    "            logging.error(f\"Api Error: {exception}\")\n",
    "            print(\"Binance API Error.\")\n",
    "\n",
    "        except Exception as e:\n",
    "            logging.error(f\"Error: {e}\")\n",
    "            print(\"Sorry! There's an error placing order :(.\")\n",
    "        return None\n",
    "    \n",
    "    def place_limit_order(self, symbol, side, quantity, price):\n",
    "        try:\n",
    "            print(f\"Placing {side} limit order for {quantity}{symbol}\")\n",
    "\n",
    "            order = self.client.futures_create_order(symbol= symbol, side= side.upper(), type= \"LIMIT\", timeInForce = \"GTC\", quantity= quantity, price = price)\n",
    "\n",
    "            logging.info(f\"Limit Order response: {order}\")\n",
    "            print(\"Limit Order placed successfully! 💯\")\n",
    "            return order\n",
    "        \n",
    "        except BinanceAPIException as exception:\n",
    "            logging.error(f\"API Error : {exception}\")\n",
    "            print(\"Binance API Error.\")\n",
    "        \n",
    "        except Exception as e:\n",
    "            logging.error(f\"Error: {e}\")\n",
    "            print(\"Sorry! There's an error placing limit order :(.\")\n",
    "        return None\n",
    "    \n",
    "    def get_order_status(self, symbol, orderId):\n",
    "        try:\n",
    "            print(f\"Fetching status for Order Id: {orderId}...\")\n",
    "\n",
    "            order_info = self.client.futures_get_order(symbol = symbol, orderId = orderId)\n",
    "\n",
    "            logging.info(f\"Order status: {order_info}\")\n",
    "            print(f\"Order info: {order_info['status']}\")\n",
    "            return order_info\n",
    "        \n",
    "        except BinanceAPIException as exception:\n",
    "            logging.error(f\"API Error : {exception}\")\n",
    "            print(\"Binance API Error.\")\n",
    "\n",
    "        except Exception as e:\n",
    "            logging.error(f\"Error: {e}\")\n",
    "            print(\"Sorry! There's an error fetching status of Order ID : {orderId} :(.\")\n",
    "\n",
    "        return None\n",
    "\n",
    "\n"
   ]
  },
  {
   "cell_type": "code",
   "execution_count": 17,
   "id": "e8a7cabf",
   "metadata": {},
   "outputs": [
    {
     "name": "stdout",
     "output_type": "stream",
     "text": [
      "Placing order BUY for 0.001BTCUSDT\n",
      "Order placed successfully! 💯\n"
     ]
    },
    {
     "data": {
      "text/plain": [
       "{'orderId': 5231957564,\n",
       " 'symbol': 'BTCUSDT',\n",
       " 'status': 'NEW',\n",
       " 'clientOrderId': 'x-Cb7ytekJ506067004503d39f3dbcef',\n",
       " 'price': '0.00',\n",
       " 'avgPrice': '0.00',\n",
       " 'origQty': '0.001',\n",
       " 'executedQty': '0.000',\n",
       " 'cumQty': '0.000',\n",
       " 'cumQuote': '0.00000',\n",
       " 'timeInForce': 'GTC',\n",
       " 'type': 'MARKET',\n",
       " 'reduceOnly': False,\n",
       " 'closePosition': False,\n",
       " 'side': 'BUY',\n",
       " 'positionSide': 'BOTH',\n",
       " 'stopPrice': '0.00',\n",
       " 'workingType': 'CONTRACT_PRICE',\n",
       " 'priceProtect': False,\n",
       " 'origType': 'MARKET',\n",
       " 'priceMatch': 'NONE',\n",
       " 'selfTradePreventionMode': 'EXPIRE_MAKER',\n",
       " 'goodTillDate': 0,\n",
       " 'updateTime': 1752078892367}"
      ]
     },
     "execution_count": 17,
     "metadata": {},
     "output_type": "execute_result"
    }
   ],
   "source": [
    "api_key = \"c13d35d87105be163cfded0ff4cc0ca972ed707b297796b16460f20ff94fe46b\"\n",
    "api_secret = \"478cfd73771e54d6edd8914e2baea7e3f04ee4227b33680d5f91d596baf6c1db\"\n",
    "\n",
    "bot = Simple_trading_bot(api_key, api_secret)\n",
    "bot.place_market_order(symbol=\"BTCUSDT\", side=\"BUY\", quantity=0.001)        #testing the bot"
   ]
  },
  {
   "cell_type": "code",
   "execution_count": 18,
   "id": "c0420e45",
   "metadata": {},
   "outputs": [
    {
     "name": "stdout",
     "output_type": "stream",
     "text": [
      "Placing BUY limit order for 0.004BTCUSDT\n",
      "Limit Order placed successfully! 💯\n",
      "Fetching status for Order Id: 5231957598...\n",
      "Order info: NEW\n"
     ]
    }
   ],
   "source": [
    "bot = Simple_trading_bot(api_key, api_secret)\n",
    "\n",
    "limit_order = bot.place_limit_order(\"BTCUSDT\", \"BUY\", quantity=\"0.004\", price=\"25000.0\")\n",
    "\n",
    "if limit_order:\n",
    "    bot.get_order_status(\"BTCUSDT\", limit_order['orderId'])"
   ]
  },
  {
   "cell_type": "markdown",
   "id": "e83cc346",
   "metadata": {},
   "source": [
    "It seems to be working just fine."
   ]
  },
  {
   "cell_type": "code",
   "execution_count": null,
   "id": "aaf87ab3",
   "metadata": {},
   "outputs": [],
   "source": []
  }
 ],
 "metadata": {
  "kernelspec": {
   "display_name": "base",
   "language": "python",
   "name": "python3"
  },
  "language_info": {
   "codemirror_mode": {
    "name": "ipython",
    "version": 3
   },
   "file_extension": ".py",
   "mimetype": "text/x-python",
   "name": "python",
   "nbconvert_exporter": "python",
   "pygments_lexer": "ipython3",
   "version": "3.12.7"
  }
 },
 "nbformat": 4,
 "nbformat_minor": 5
}
